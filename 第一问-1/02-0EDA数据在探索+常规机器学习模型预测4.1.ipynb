{
 "cells": [
  {
   "cell_type": "markdown",
   "id": "02f66519",
   "metadata": {
    "ExecuteTime": {
     "end_time": "2023-03-29T01:06:25.219425Z",
     "start_time": "2023-03-29T01:06:24.434882Z"
    }
   },
   "source": [
    "\n",
    "1、先提取出每个地区的数据，再将每个地区的数据按照每天产品需求量去处理(df101\\df102\\....)\n",
    "\n",
    "2、每个地区的数据进行分析处理，查看价格分布分箱操作、编码转换、分解出是否是工作日或周末、日期是周几、等操作\n"
   ]
  },
  {
   "cell_type": "code",
   "execution_count": null,
   "id": "6a70931c",
   "metadata": {},
   "outputs": [],
   "source": []
  },
  {
   "cell_type": "code",
   "execution_count": 12,
   "id": "1f12c959",
   "metadata": {
    "ExecuteTime": {
     "end_time": "2023-04-15T14:45:03.255647Z",
     "start_time": "2023-04-15T14:45:03.236648Z"
    }
   },
   "outputs": [],
   "source": [
    "import pandas as pd\n",
    "import numpy as np\n",
    "import matplotlib.pyplot as plt\n",
    "import seaborn as sns\n",
    "\n",
    "import numpy as np      # To use np.arrays\n",
    "import pandas as pd     # To use dataframes\n",
    "from pandas.plotting import autocorrelation_plot as auto_corr\n",
    "\n",
    "# To plot\n",
    "import matplotlib.pyplot as plt  \n",
    "%matplotlib inline    \n",
    "import matplotlib as mpl\n",
    "import seaborn as sns\n",
    "\n",
    "#For date-time\n",
    "import math\n",
    "from datetime import datetime\n",
    "from datetime import timedelta\n",
    "\n",
    "# # Another imports if needs\n",
    "# import itertools\n",
    "# import statsmodels.api as sm\n",
    "# import statsmodels.tsa.api as smt\n",
    "# import statsmodels.formula.api as smf\n",
    "\n",
    "from sklearn.model_selection import train_test_split\n",
    "# from statsmodels.tsa.seasonal import seasonal_decompose as season\n",
    "from sklearn.metrics import mean_squared_error, mean_absolute_error\n",
    "from sklearn.metrics import accuracy_score, balanced_accuracy_score\n",
    "from sklearn.model_selection import cross_val_score\n",
    "from sklearn.pipeline import make_pipeline, Pipeline\n",
    "from sklearn.ensemble import RandomForestRegressor\n",
    "from sklearn import metrics\n",
    "from sklearn.linear_model import LinearRegression \n",
    "from sklearn import preprocessing\n",
    "\n",
    "# from statsmodels.tsa.holtwinters import ExponentialSmoothing\n",
    "# from statsmodels.tsa.stattools import adfuller, acf, pacf\n",
    "# from statsmodels.tsa.arima_model import ARIMA\n",
    "# !pip install pmdarima\n",
    "# from pmdarima.utils import decomposed_plot\n",
    "# from pmdarima.arima import decompose\n",
    "# from pmdarima import auto_arima\n",
    "\n",
    "\n",
    "import warnings\n",
    "warnings.filterwarnings(\"ignore\")"
   ]
  },
  {
   "cell_type": "code",
   "execution_count": 13,
   "id": "c8152602",
   "metadata": {
    "ExecuteTime": {
     "end_time": "2023-04-15T14:45:03.843647Z",
     "start_time": "2023-04-15T14:45:03.257650Z"
    }
   },
   "outputs": [
    {
     "data": {
      "text/html": [
       "<div>\n",
       "<style scoped>\n",
       "    .dataframe tbody tr th:only-of-type {\n",
       "        vertical-align: middle;\n",
       "    }\n",
       "\n",
       "    .dataframe tbody tr th {\n",
       "        vertical-align: top;\n",
       "    }\n",
       "\n",
       "    .dataframe thead th {\n",
       "        text-align: right;\n",
       "    }\n",
       "</style>\n",
       "<table border=\"1\" class=\"dataframe\">\n",
       "  <thead>\n",
       "    <tr style=\"text-align: right;\">\n",
       "      <th></th>\n",
       "      <th>订单日期</th>\n",
       "      <th>销售区域编码</th>\n",
       "      <th>产品编码</th>\n",
       "      <th>产品大类编码</th>\n",
       "      <th>产品细类编码</th>\n",
       "      <th>销售渠道名称</th>\n",
       "      <th>产品价格</th>\n",
       "      <th>订单需求量</th>\n",
       "    </tr>\n",
       "  </thead>\n",
       "  <tbody>\n",
       "    <tr>\n",
       "      <th>0</th>\n",
       "      <td>2015-09-01</td>\n",
       "      <td>104</td>\n",
       "      <td>22069</td>\n",
       "      <td>307</td>\n",
       "      <td>403</td>\n",
       "      <td>offline</td>\n",
       "      <td>1114.0</td>\n",
       "      <td>19</td>\n",
       "    </tr>\n",
       "    <tr>\n",
       "      <th>1</th>\n",
       "      <td>2015-09-01</td>\n",
       "      <td>104</td>\n",
       "      <td>20028</td>\n",
       "      <td>301</td>\n",
       "      <td>405</td>\n",
       "      <td>offline</td>\n",
       "      <td>1012.0</td>\n",
       "      <td>12</td>\n",
       "    </tr>\n",
       "    <tr>\n",
       "      <th>2</th>\n",
       "      <td>2015-09-02</td>\n",
       "      <td>104</td>\n",
       "      <td>21183</td>\n",
       "      <td>307</td>\n",
       "      <td>403</td>\n",
       "      <td>online</td>\n",
       "      <td>428.0</td>\n",
       "      <td>109</td>\n",
       "    </tr>\n",
       "    <tr>\n",
       "      <th>3</th>\n",
       "      <td>2015-09-02</td>\n",
       "      <td>104</td>\n",
       "      <td>20448</td>\n",
       "      <td>308</td>\n",
       "      <td>404</td>\n",
       "      <td>online</td>\n",
       "      <td>962.0</td>\n",
       "      <td>3</td>\n",
       "    </tr>\n",
       "    <tr>\n",
       "      <th>4</th>\n",
       "      <td>2015-09-02</td>\n",
       "      <td>104</td>\n",
       "      <td>21565</td>\n",
       "      <td>307</td>\n",
       "      <td>403</td>\n",
       "      <td>offline</td>\n",
       "      <td>1400.0</td>\n",
       "      <td>3</td>\n",
       "    </tr>\n",
       "    <tr>\n",
       "      <th>...</th>\n",
       "      <td>...</td>\n",
       "      <td>...</td>\n",
       "      <td>...</td>\n",
       "      <td>...</td>\n",
       "      <td>...</td>\n",
       "      <td>...</td>\n",
       "      <td>...</td>\n",
       "      <td>...</td>\n",
       "    </tr>\n",
       "    <tr>\n",
       "      <th>597689</th>\n",
       "      <td>2018-12-20</td>\n",
       "      <td>102</td>\n",
       "      <td>20994</td>\n",
       "      <td>302</td>\n",
       "      <td>408</td>\n",
       "      <td>offline</td>\n",
       "      <td>843.0</td>\n",
       "      <td>59</td>\n",
       "    </tr>\n",
       "    <tr>\n",
       "      <th>597690</th>\n",
       "      <td>2018-12-20</td>\n",
       "      <td>102</td>\n",
       "      <td>21875</td>\n",
       "      <td>302</td>\n",
       "      <td>408</td>\n",
       "      <td>offline</td>\n",
       "      <td>762.0</td>\n",
       "      <td>502</td>\n",
       "    </tr>\n",
       "    <tr>\n",
       "      <th>597691</th>\n",
       "      <td>2018-12-20</td>\n",
       "      <td>102</td>\n",
       "      <td>20215</td>\n",
       "      <td>302</td>\n",
       "      <td>408</td>\n",
       "      <td>offline</td>\n",
       "      <td>2013.0</td>\n",
       "      <td>106</td>\n",
       "    </tr>\n",
       "    <tr>\n",
       "      <th>597692</th>\n",
       "      <td>2018-12-20</td>\n",
       "      <td>102</td>\n",
       "      <td>20195</td>\n",
       "      <td>302</td>\n",
       "      <td>408</td>\n",
       "      <td>offline</td>\n",
       "      <td>2120.0</td>\n",
       "      <td>187</td>\n",
       "    </tr>\n",
       "    <tr>\n",
       "      <th>597693</th>\n",
       "      <td>2018-12-20</td>\n",
       "      <td>102</td>\n",
       "      <td>20321</td>\n",
       "      <td>302</td>\n",
       "      <td>408</td>\n",
       "      <td>offline</td>\n",
       "      <td>1244.0</td>\n",
       "      <td>205</td>\n",
       "    </tr>\n",
       "  </tbody>\n",
       "</table>\n",
       "<p>597694 rows × 8 columns</p>\n",
       "</div>"
      ],
      "text/plain": [
       "              订单日期  销售区域编码   产品编码  产品大类编码  产品细类编码   销售渠道名称    产品价格  订单需求量\n",
       "0       2015-09-01     104  22069     307     403  offline  1114.0     19\n",
       "1       2015-09-01     104  20028     301     405  offline  1012.0     12\n",
       "2       2015-09-02     104  21183     307     403   online   428.0    109\n",
       "3       2015-09-02     104  20448     308     404   online   962.0      3\n",
       "4       2015-09-02     104  21565     307     403  offline  1400.0      3\n",
       "...            ...     ...    ...     ...     ...      ...     ...    ...\n",
       "597689  2018-12-20     102  20994     302     408  offline   843.0     59\n",
       "597690  2018-12-20     102  21875     302     408  offline   762.0    502\n",
       "597691  2018-12-20     102  20215     302     408  offline  2013.0    106\n",
       "597692  2018-12-20     102  20195     302     408  offline  2120.0    187\n",
       "597693  2018-12-20     102  20321     302     408  offline  1244.0    205\n",
       "\n",
       "[597694 rows x 8 columns]"
      ]
     },
     "execution_count": 13,
     "metadata": {},
     "output_type": "execute_result"
    }
   ],
   "source": [
    "import pandas as pd \n",
    "import numpy as np \n",
    "df = pd.read_csv('process1.csv',encoding='utf-8')\n",
    "df"
   ]
  },
  {
   "cell_type": "code",
   "execution_count": 14,
   "id": "320401cf",
   "metadata": {},
   "outputs": [],
   "source": [
    "# plt.rcParams['font.sans-serif'] = ['SimHei']\n",
    "# # 选择需要分析的特征列和订单需求量列\n",
    "# target_col = '订单需求量'\n",
    "# feature_cols = [col for col in df.columns if col != target_col]\n",
    "\n",
    "# # 计算相关系数\n",
    "# corr = df[feature_cols + [target_col]].corr()\n",
    "\n",
    "# # 绘制热力图\n",
    "# plt.figure(figsize=(10, 8))\n",
    "# sns.heatmap(corr, annot=True, cmap='coolwarm')\n",
    "# plt.title('热力图')\n",
    "# plt.show()"
   ]
  },
  {
   "cell_type": "markdown",
   "id": "66fbcf3d",
   "metadata": {},
   "source": [
    "# 建模准备，数据分析+数据准备"
   ]
  },
  {
   "cell_type": "markdown",
   "id": "b124d65c",
   "metadata": {},
   "source": [
    "## 以地区101为例，制作出101地区的建模数据准备"
   ]
  },
  {
   "cell_type": "code",
   "execution_count": 15,
   "id": "3e5bd7fb",
   "metadata": {
    "ExecuteTime": {
     "end_time": "2023-04-15T14:45:03.890653Z",
     "start_time": "2023-04-15T14:45:03.844648Z"
    }
   },
   "outputs": [
    {
     "data": {
      "text/plain": [
       "{101, 102, 103, 104, 105}"
      ]
     },
     "execution_count": 15,
     "metadata": {},
     "output_type": "execute_result"
    }
   ],
   "source": [
    "set(df['销售区域编码'])"
   ]
  },
  {
   "cell_type": "code",
   "execution_count": 16,
   "id": "962f9af1",
   "metadata": {
    "ExecuteTime": {
     "end_time": "2023-04-15T14:45:04.272648Z",
     "start_time": "2023-04-15T14:45:03.891650Z"
    }
   },
   "outputs": [],
   "source": [
    "df_101 = df.loc[df['销售区域编码']==104]\n",
    "df_101\n",
    "\n",
    "\n",
    "plt.figure(figsize=(16,8))\n",
    "plt.rcParams['font.sans-serif']='simhei'\n",
    "plt.rcParams['axes.unicode_minus']=False\n",
    "sns.lineplot(x='grade', y='订单需求量', data=df_101)\n",
    "plt.show()\n",
    "# len(set(df_101['产品编码']))"
   ]
  },
  {
   "cell_type": "markdown",
   "id": "47ea8dec",
   "metadata": {},
   "source": [
    "仅仅将价格划分为四个区间是不够的，下面我们对价格进行最优分箱操作，再将价格区间进行对应编码处理"
   ]
  },
  {
   "cell_type": "markdown",
   "id": "0cd97eae",
   "metadata": {},
   "source": [
    "### 重新对价格进行更细致的分箱编码"
   ]
  },
  {
   "cell_type": "code",
   "execution_count": 17,
   "id": "4cb2f9ee",
   "metadata": {
    "ExecuteTime": {
     "end_time": "2023-04-15T14:45:04.288651Z",
     "start_time": "2023-04-15T14:45:04.274649Z"
    }
   },
   "outputs": [
    {
     "data": {
      "text/plain": [
       "3002.0"
      ]
     },
     "execution_count": 17,
     "metadata": {},
     "output_type": "execute_result"
    }
   ],
   "source": [
    "max(df_101['产品价格'])"
   ]
  },
  {
   "cell_type": "code",
   "execution_count": 18,
   "id": "24218a75",
   "metadata": {
    "ExecuteTime": {
     "end_time": "2023-04-15T14:45:04.304657Z",
     "start_time": "2023-04-15T14:45:04.289647Z"
    }
   },
   "outputs": [],
   "source": [
    "from scipy.stats import stats\n",
    "def optimal_bins(Y,X,n):\n",
    "    \"\"\"\n",
    "    :Y  目标变量\n",
    "    ：X  待分箱特征\n",
    "    ：n 分箱数初始值\n",
    "    return : 统计值，分箱边界值列表、woe值、iv值\n",
    "    \"\"\"\n",
    "    r = 0  #xia相关系数的初始值\n",
    "    total_bad = Y.sum()  #总的坏样本数\n",
    "    total_good = Y.count() - total_bad   #总的好样本数\n",
    "    #分箱过程\n",
    "    while np.abs(r) <1:   #相关系数的绝对值等于1结束循环，循环目的找寻最好正反相关性\n",
    "        #df1中的bin为给X分箱对应的结果\n",
    "        df1 = pd.DataFrame({'X':X,'Y':Y,'bin':pd.qcut(X,n,duplicates='drop')})  #drop表示删除重复元素\n",
    "        #将df1基于箱子进行分组\n",
    "        df2 = df1.groupby('bin')\n",
    "        #r返回的是df1对箱子分组后，每组数据X的均值的相关系数，如果系数不为正负1，则减少分箱的箱数\n",
    "        r,p = stats.spearmanr(df2.mean().X,df2.mean().Y) #计算相关系数\n",
    "        n = n-1\n",
    "    cut =[0]  #分箱边界值列表\n",
    "    for i in range(1,n+2):  #i的取值范围是1->（n+1），n+1是分箱的数量\n",
    "        qua = X.quantile(i/(n+1)) #quantile把给定的乱序的数值有小到大并列分成n等份，参数表述取出第百分之多少大小的数值\n",
    "                                    #i的取值范围是1->n 1/n.2/n 3/n...n/n\n",
    "        cut.append(round(qua,6))\n",
    "   \n",
    "    return cut"
   ]
  },
  {
   "cell_type": "code",
   "execution_count": 19,
   "id": "e8319643",
   "metadata": {
    "ExecuteTime": {
     "end_time": "2023-04-15T14:45:04.352647Z",
     "start_time": "2023-04-15T14:45:04.306648Z"
    }
   },
   "outputs": [
    {
     "data": {
      "text/plain": [
       "[0, 433.0, 723.0, 1057.0, 3002.0]"
      ]
     },
     "execution_count": 19,
     "metadata": {},
     "output_type": "execute_result"
    }
   ],
   "source": [
    "#对RevolvingRatio列进行分箱操作：\n",
    "cut_bins = optimal_bins(df_101.订单需求量,df_101.产品价格,n=10)\n",
    "cut_bins"
   ]
  },
  {
   "cell_type": "code",
   "execution_count": 20,
   "id": "ed4e855a",
   "metadata": {
    "ExecuteTime": {
     "end_time": "2023-04-15T14:45:04.383648Z",
     "start_time": "2023-04-15T14:45:04.354648Z"
    }
   },
   "outputs": [
    {
     "data": {
      "text/html": [
       "<div>\n",
       "<style scoped>\n",
       "    .dataframe tbody tr th:only-of-type {\n",
       "        vertical-align: middle;\n",
       "    }\n",
       "\n",
       "    .dataframe tbody tr th {\n",
       "        vertical-align: top;\n",
       "    }\n",
       "\n",
       "    .dataframe thead th {\n",
       "        text-align: right;\n",
       "    }\n",
       "</style>\n",
       "<table border=\"1\" class=\"dataframe\">\n",
       "  <thead>\n",
       "    <tr style=\"text-align: right;\">\n",
       "      <th></th>\n",
       "      <th>订单日期</th>\n",
       "      <th>销售区域编码</th>\n",
       "      <th>产品编码</th>\n",
       "      <th>产品大类编码</th>\n",
       "      <th>产品细类编码</th>\n",
       "      <th>销售渠道名称</th>\n",
       "      <th>产品价格</th>\n",
       "      <th>订单需求量</th>\n",
       "      <th>价格区间</th>\n",
       "    </tr>\n",
       "  </thead>\n",
       "  <tbody>\n",
       "    <tr>\n",
       "      <th>0</th>\n",
       "      <td>2015-09-01</td>\n",
       "      <td>104</td>\n",
       "      <td>22069</td>\n",
       "      <td>307</td>\n",
       "      <td>403</td>\n",
       "      <td>offline</td>\n",
       "      <td>1114.0</td>\n",
       "      <td>19</td>\n",
       "      <td>3</td>\n",
       "    </tr>\n",
       "    <tr>\n",
       "      <th>1</th>\n",
       "      <td>2015-09-01</td>\n",
       "      <td>104</td>\n",
       "      <td>20028</td>\n",
       "      <td>301</td>\n",
       "      <td>405</td>\n",
       "      <td>offline</td>\n",
       "      <td>1012.0</td>\n",
       "      <td>12</td>\n",
       "      <td>2</td>\n",
       "    </tr>\n",
       "    <tr>\n",
       "      <th>2</th>\n",
       "      <td>2015-09-02</td>\n",
       "      <td>104</td>\n",
       "      <td>21183</td>\n",
       "      <td>307</td>\n",
       "      <td>403</td>\n",
       "      <td>online</td>\n",
       "      <td>428.0</td>\n",
       "      <td>109</td>\n",
       "      <td>0</td>\n",
       "    </tr>\n",
       "    <tr>\n",
       "      <th>3</th>\n",
       "      <td>2015-09-02</td>\n",
       "      <td>104</td>\n",
       "      <td>20448</td>\n",
       "      <td>308</td>\n",
       "      <td>404</td>\n",
       "      <td>online</td>\n",
       "      <td>962.0</td>\n",
       "      <td>3</td>\n",
       "      <td>2</td>\n",
       "    </tr>\n",
       "    <tr>\n",
       "      <th>4</th>\n",
       "      <td>2015-09-02</td>\n",
       "      <td>104</td>\n",
       "      <td>21565</td>\n",
       "      <td>307</td>\n",
       "      <td>403</td>\n",
       "      <td>offline</td>\n",
       "      <td>1400.0</td>\n",
       "      <td>3</td>\n",
       "      <td>3</td>\n",
       "    </tr>\n",
       "    <tr>\n",
       "      <th>...</th>\n",
       "      <td>...</td>\n",
       "      <td>...</td>\n",
       "      <td>...</td>\n",
       "      <td>...</td>\n",
       "      <td>...</td>\n",
       "      <td>...</td>\n",
       "      <td>...</td>\n",
       "      <td>...</td>\n",
       "      <td>...</td>\n",
       "    </tr>\n",
       "    <tr>\n",
       "      <th>178615</th>\n",
       "      <td>2016-12-31</td>\n",
       "      <td>104</td>\n",
       "      <td>21551</td>\n",
       "      <td>308</td>\n",
       "      <td>404</td>\n",
       "      <td>online</td>\n",
       "      <td>1427.0</td>\n",
       "      <td>8</td>\n",
       "      <td>3</td>\n",
       "    </tr>\n",
       "    <tr>\n",
       "      <th>178616</th>\n",
       "      <td>2016-12-31</td>\n",
       "      <td>104</td>\n",
       "      <td>21179</td>\n",
       "      <td>308</td>\n",
       "      <td>404</td>\n",
       "      <td>online</td>\n",
       "      <td>1226.0</td>\n",
       "      <td>7</td>\n",
       "      <td>3</td>\n",
       "    </tr>\n",
       "    <tr>\n",
       "      <th>178617</th>\n",
       "      <td>2016-12-31</td>\n",
       "      <td>104</td>\n",
       "      <td>20340</td>\n",
       "      <td>308</td>\n",
       "      <td>404</td>\n",
       "      <td>online</td>\n",
       "      <td>1227.0</td>\n",
       "      <td>5</td>\n",
       "      <td>3</td>\n",
       "    </tr>\n",
       "    <tr>\n",
       "      <th>178618</th>\n",
       "      <td>2016-12-31</td>\n",
       "      <td>104</td>\n",
       "      <td>21446</td>\n",
       "      <td>308</td>\n",
       "      <td>404</td>\n",
       "      <td>online</td>\n",
       "      <td>1531.0</td>\n",
       "      <td>67</td>\n",
       "      <td>3</td>\n",
       "    </tr>\n",
       "    <tr>\n",
       "      <th>178619</th>\n",
       "      <td>2016-12-31</td>\n",
       "      <td>104</td>\n",
       "      <td>21181</td>\n",
       "      <td>308</td>\n",
       "      <td>404</td>\n",
       "      <td>online</td>\n",
       "      <td>610.0</td>\n",
       "      <td>8</td>\n",
       "      <td>1</td>\n",
       "    </tr>\n",
       "  </tbody>\n",
       "</table>\n",
       "<p>25063 rows × 9 columns</p>\n",
       "</div>"
      ],
      "text/plain": [
       "              订单日期  销售区域编码   产品编码  产品大类编码  产品细类编码   销售渠道名称    产品价格  订单需求量 价格区间\n",
       "0       2015-09-01     104  22069     307     403  offline  1114.0     19    3\n",
       "1       2015-09-01     104  20028     301     405  offline  1012.0     12    2\n",
       "2       2015-09-02     104  21183     307     403   online   428.0    109    0\n",
       "3       2015-09-02     104  20448     308     404   online   962.0      3    2\n",
       "4       2015-09-02     104  21565     307     403  offline  1400.0      3    3\n",
       "...            ...     ...    ...     ...     ...      ...     ...    ...  ...\n",
       "178615  2016-12-31     104  21551     308     404   online  1427.0      8    3\n",
       "178616  2016-12-31     104  21179     308     404   online  1226.0      7    3\n",
       "178617  2016-12-31     104  20340     308     404   online  1227.0      5    3\n",
       "178618  2016-12-31     104  21446     308     404   online  1531.0     67    3\n",
       "178619  2016-12-31     104  21181     308     404   online   610.0      8    1\n",
       "\n",
       "[25063 rows x 9 columns]"
      ]
     },
     "execution_count": 20,
     "metadata": {},
     "output_type": "execute_result"
    }
   ],
   "source": [
    "\n",
    "df_101['价格区间'] = pd.cut(df_101['产品价格'],cut_bins,labels=[x for x in range(len(cut_bins)-1)])\n",
    "df_101"
   ]
  },
  {
   "cell_type": "code",
   "execution_count": 21,
   "id": "18886901",
   "metadata": {
    "ExecuteTime": {
     "end_time": "2023-04-15T14:45:04.781655Z",
     "start_time": "2023-04-15T14:45:04.385650Z"
    }
   },
   "outputs": [
    {
     "data": {
      "image/png": "[encoded data removed]",
      "text/plain": [
       "<Figure size 1152x576 with 1 Axes>"
      ]
     },
     "metadata": {
      "needs_background": "light"
     },
     "output_type": "display_data"
    }
   ],
   "source": [
    "# 设置调色板\n",
    "palette = sns.color_palette('pastel', 10)\n",
    "\n",
    "plt.figure(figsize=(16,8))\n",
    "plt.rcParams['font.sans-serif']='simhei'\n",
    "plt.rcParams['axes.unicode_minus']=False\n",
    "sns.lineplot(x='价格区间', y='订单需求量', data=df_101,color =palette[0])\n",
    "# 设置x轴标签的字体大小\n",
    "plt.xlabel('价格区间', fontsize=26)\n",
    "plt.ylabel('订单需求量',fontsize=26)\n",
    "plt.xticks(fontsize=20)\n",
    "plt.yticks(fontsize=20)\n",
    "plt.savefig('1.jpg',dpi=200)\n",
    "plt.show()"
   ]
  },
  {
   "cell_type": "markdown",
   "id": "dc2ad1ba",
   "metadata": {},
   "source": [
    "这样可以更细致的对价格进行分区间，有利于建模时，价格区间对模型的影响"
   ]
  },
  {
   "cell_type": "markdown",
   "id": "6ebf3b24",
   "metadata": {},
   "source": [
    "### 利用map映射对“渠道”和“月头、月中..”编码处理"
   ]
  },
  {
   "cell_type": "code",
   "execution_count": 22,
   "id": "34cce3f0",
   "metadata": {
    "ExecuteTime": {
     "end_time": "2023-04-15T14:45:04.813647Z",
     "start_time": "2023-04-15T14:45:04.782648Z"
    }
   },
   "outputs": [
    {
     "ename": "AttributeError",
     "evalue": "'DataFrame' object has no attribute '标签'",
     "output_type": "error",
     "traceback": [
      "\u001b[1;31m---------------------------------------------------------------------------\u001b[0m",
      "\u001b[1;31mAttributeError\u001b[0m                            Traceback (most recent call last)",
      "Input \u001b[1;32mIn [22]\u001b[0m, in \u001b[0;36m<cell line: 4>\u001b[1;34m()\u001b[0m\n\u001b[0;32m      2\u001b[0m dict_moth \u001b[38;5;241m=\u001b[39m {\u001b[38;5;124m'\u001b[39m\u001b[38;5;124m月初\u001b[39m\u001b[38;5;124m'\u001b[39m:\u001b[38;5;241m0\u001b[39m,\u001b[38;5;124m'\u001b[39m\u001b[38;5;124m月中\u001b[39m\u001b[38;5;124m'\u001b[39m:\u001b[38;5;241m1\u001b[39m,\u001b[38;5;124m'\u001b[39m\u001b[38;5;124m月末\u001b[39m\u001b[38;5;124m'\u001b[39m:\u001b[38;5;241m2\u001b[39m}\n\u001b[0;32m      3\u001b[0m df_101\u001b[38;5;241m.\u001b[39m销售渠道名称 \u001b[38;5;241m=\u001b[39m df_101\u001b[38;5;241m.\u001b[39m销售渠道名称\u001b[38;5;241m.\u001b[39mmap(dict_qudao)\n\u001b[1;32m----> 4\u001b[0m df_101[\u001b[38;5;124m'\u001b[39m\u001b[38;5;124m每月时间段\u001b[39m\u001b[38;5;124m'\u001b[39m] \u001b[38;5;241m=\u001b[39m\u001b[43mdf_101\u001b[49m\u001b[38;5;241;43m.\u001b[39;49m\u001b[43m标签\u001b[49m\u001b[38;5;241m.\u001b[39mmap(dict_moth)\n\u001b[0;32m      5\u001b[0m df_101\n",
      "File \u001b[1;32mC:\\anaconda\\lib\\site-packages\\pandas\\core\\generic.py:5575\u001b[0m, in \u001b[0;36mNDFrame.__getattr__\u001b[1;34m(self, name)\u001b[0m\n\u001b[0;32m   5568\u001b[0m \u001b[38;5;28;01mif\u001b[39;00m (\n\u001b[0;32m   5569\u001b[0m     name \u001b[38;5;129;01mnot\u001b[39;00m \u001b[38;5;129;01min\u001b[39;00m \u001b[38;5;28mself\u001b[39m\u001b[38;5;241m.\u001b[39m_internal_names_set\n\u001b[0;32m   5570\u001b[0m     \u001b[38;5;129;01mand\u001b[39;00m name \u001b[38;5;129;01mnot\u001b[39;00m \u001b[38;5;129;01min\u001b[39;00m \u001b[38;5;28mself\u001b[39m\u001b[38;5;241m.\u001b[39m_metadata\n\u001b[0;32m   5571\u001b[0m     \u001b[38;5;129;01mand\u001b[39;00m name \u001b[38;5;129;01mnot\u001b[39;00m \u001b[38;5;129;01min\u001b[39;00m \u001b[38;5;28mself\u001b[39m\u001b[38;5;241m.\u001b[39m_accessors\n\u001b[0;32m   5572\u001b[0m     \u001b[38;5;129;01mand\u001b[39;00m \u001b[38;5;28mself\u001b[39m\u001b[38;5;241m.\u001b[39m_info_axis\u001b[38;5;241m.\u001b[39m_can_hold_identifiers_and_holds_name(name)\n\u001b[0;32m   5573\u001b[0m ):\n\u001b[0;32m   5574\u001b[0m     \u001b[38;5;28;01mreturn\u001b[39;00m \u001b[38;5;28mself\u001b[39m[name]\n\u001b[1;32m-> 5575\u001b[0m \u001b[38;5;28;01mreturn\u001b[39;00m \u001b[38;5;28;43mobject\u001b[39;49m\u001b[38;5;241;43m.\u001b[39;49m\u001b[38;5;21;43m__getattribute__\u001b[39;49m\u001b[43m(\u001b[49m\u001b[38;5;28;43mself\u001b[39;49m\u001b[43m,\u001b[49m\u001b[43m \u001b[49m\u001b[43mname\u001b[49m\u001b[43m)\u001b[49m\n",
      "\u001b[1;31mAttributeError\u001b[0m: 'DataFrame' object has no attribute '标签'"
     ]
    }
   ],
   "source": [
    "dict_qudao = {'offline':0,'online':1}\n",
    "dict_moth = {'月初':0,'月中':1,'月末':2}\n",
    "df_101.销售渠道名称 = df_101.销售渠道名称.map(dict_qudao)\n",
    "df_101['每月时间段'] =df_101.标签.map(dict_moth)\n",
    "df_101"
   ]
  },
  {
   "cell_type": "markdown",
   "id": "2d7eeccf",
   "metadata": {},
   "source": [
    "### 根据第一问分析，需要对每个地区季节再进行分类和标签编码"
   ]
  },
  {
   "cell_type": "markdown",
   "id": "556b0197",
   "metadata": {},
   "source": [
    "第一问分析可知，季节对需求量有一定的影响，所以需要对每个地区的季节进行分离和编码"
   ]
  },
  {
   "cell_type": "code",
   "execution_count": null,
   "id": "b2f5269e",
   "metadata": {
    "ExecuteTime": {
     "end_time": "2023-04-15T14:45:04.849649Z",
     "start_time": "2023-04-15T14:45:04.815648Z"
    }
   },
   "outputs": [],
   "source": [
    "df_101[\"season\"] = df_101[\"Month\"].map({3:\"春季\",4:\"春季\",5:\"春季\",6:\"夏季\",7:\"夏季\",\n",
    "                                        8:\"夏季\",9:\"秋季\",10:\"秋季\",11:\"秋季\",12:\"冬季\",1:\"冬季\",2:\"冬季\"})\n",
    "df_101\n",
    "dict_season = {'春季':0,'夏季':1,'秋季':2,'冬季':3}\n",
    "df_101['season_bm'] =df_101.season.map(dict_season)\n",
    "df_101"
   ]
  },
  {
   "cell_type": "markdown",
   "id": "20c4d927",
   "metadata": {},
   "source": [
    "### 构造新特征，日期为每周星期几、工作日还是休息日"
   ]
  },
  {
   "cell_type": "markdown",
   "id": "06c5cdda",
   "metadata": {},
   "source": [
    "由于原数据中的week为当前日期，为一年的第几周，这样的特征列在模型训练以及预测都意义不大，\n",
    "\n",
    "所以我们重新分离出当前日期是星期几、以及是否是工作日、休息日、（节假日已经构造了）"
   ]
  },
  {
   "cell_type": "code",
   "execution_count": null,
   "id": "4d11e705",
   "metadata": {
    "ExecuteTime": {
     "end_time": "2023-04-15T14:45:04.892652Z",
     "start_time": "2023-04-15T14:45:04.851647Z"
    }
   },
   "outputs": [],
   "source": [
    "import datetime\n",
    "df_101['订单日期'] = pd.to_datetime(df_101['订单日期'])  #对日期列进行日期格式转换\n",
    "df_101['星期几'] = df_101.订单日期.dt.weekday   #0-6  {0, 1, 2, 3, 4, 5, 6}  星期一对应0.。。\n",
    "df_101\n",
    "\n",
    "# set(df_101['星期几'])"
   ]
  },
  {
   "cell_type": "code",
   "execution_count": null,
   "id": "fbe9615c",
   "metadata": {
    "ExecuteTime": {
     "end_time": "2023-04-15T14:45:05.333647Z",
     "start_time": "2023-04-15T14:45:04.893676Z"
    }
   },
   "outputs": [],
   "source": [
    "from chinese_calendar import is_workday\n",
    "\n",
    "df_101['is_workday']=df_101['订单日期'].map(lambda x:is_workday(x))\n",
    "df_101"
   ]
  },
  {
   "cell_type": "code",
   "execution_count": null,
   "id": "f8bfd5f8",
   "metadata": {
    "ExecuteTime": {
     "end_time": "2023-04-15T14:45:05.365646Z",
     "start_time": "2023-04-15T14:45:05.334648Z"
    }
   },
   "outputs": [],
   "source": [
    "dict_is_workday = {False:0,True:1}\n",
    "df_101['is_workday'] =df_101.is_workday.map(dict_is_workday)\n",
    "df_101"
   ]
  },
  {
   "cell_type": "markdown",
   "id": "1f46dc0e",
   "metadata": {},
   "source": [
    "### 删除无用列，整理df"
   ]
  },
  {
   "cell_type": "markdown",
   "id": "5dba652b",
   "metadata": {},
   "source": [
    "由于最终目标是预测2019 年 1 月、2 月、3 月，所以在不适用LSTM模型时，不需要“年”列，使用常规的机器学习模型时，可以试着将月、日放入型\n",
    "\n",
    "所以删除“订单日期”，“Year”列，以及其它无用列"
   ]
  },
  {
   "cell_type": "code",
   "execution_count": null,
   "id": "3b2b7e25",
   "metadata": {
    "ExecuteTime": {
     "end_time": "2023-04-15T14:45:05.396650Z",
     "start_time": "2023-04-15T14:45:05.366647Z"
    }
   },
   "outputs": [],
   "source": [
    "df_101.drop(['产品价格','grade','标签','season','销售区域编码'],axis=1,inplace=True)\n",
    "df_101"
   ]
  },
  {
   "cell_type": "markdown",
   "id": "8373c4f6",
   "metadata": {},
   "source": [
    "数据先暂时处理成这样，因为最终目标预测2019 年 1 月、2 月、3 月时，可以根据给出的待预测数据，推导出这些列特征方便于机器学习回归模型的\n",
    "\n",
    "训练和预测"
   ]
  },
  {
   "cell_type": "code",
   "execution_count": null,
   "id": "162254c9",
   "metadata": {},
   "outputs": [],
   "source": []
  },
  {
   "cell_type": "markdown",
   "id": "a6128f13",
   "metadata": {},
   "source": [
    "### 数据再探索"
   ]
  },
  {
   "cell_type": "code",
   "execution_count": null,
   "id": "203b142f",
   "metadata": {
    "ExecuteTime": {
     "end_time": "2023-04-15T14:45:05.412648Z",
     "start_time": "2023-04-15T14:45:05.397651Z"
    }
   },
   "outputs": [],
   "source": [
    "#查看各特征列有多少种：\n",
    "\n",
    "print(\"产品编码:\",df_101['产品编码'].nunique() )\n",
    "print(\"产品大类编码:\",df_101['产品大类编码'].nunique() )\n",
    "print(\"产品细类编码:\",df_101['产品细类编码'].nunique() )"
   ]
  },
  {
   "cell_type": "code",
   "execution_count": null,
   "id": "82f481ae",
   "metadata": {
    "ExecuteTime": {
     "end_time": "2023-04-15T14:45:05.443646Z",
     "start_time": "2023-04-15T14:45:05.413647Z"
    }
   },
   "outputs": [],
   "source": [
    "store_dept_table = pd.pivot_table(df_101, index='产品大类编码', columns='产品细类编码',\n",
    "                                  values='订单需求量', aggfunc=np.mean)\n",
    "display(store_dept_table)"
   ]
  },
  {
   "cell_type": "code",
   "execution_count": null,
   "id": "812df3e7",
   "metadata": {
    "ExecuteTime": {
     "end_time": "2023-04-15T14:45:05.474647Z",
     "start_time": "2023-04-15T14:45:05.444646Z"
    }
   },
   "outputs": [],
   "source": [
    "store_dept_table = pd.pivot_table(df_101, index='产品细类编码', columns='产品编码',\n",
    "                                  values='订单需求量', aggfunc=np.mean)\n",
    "display(store_dept_table)"
   ]
  },
  {
   "cell_type": "code",
   "execution_count": null,
   "id": "119a8707",
   "metadata": {
    "ExecuteTime": {
     "end_time": "2023-04-15T14:45:05.773651Z",
     "start_time": "2023-04-15T14:45:05.475648Z"
    }
   },
   "outputs": [],
   "source": [
    "sns.barplot(x='是否节假日', y='订单需求量', data=df_101)"
   ]
  },
  {
   "cell_type": "code",
   "execution_count": null,
   "id": "24d7c932",
   "metadata": {
    "ExecuteTime": {
     "end_time": "2023-04-15T14:45:06.085647Z",
     "start_time": "2023-04-15T14:45:05.775648Z"
    }
   },
   "outputs": [],
   "source": [
    "sns.barplot(x='销售渠道名称', y='订单需求量', data=df_101)"
   ]
  },
  {
   "cell_type": "code",
   "execution_count": null,
   "id": "ce9506ad",
   "metadata": {
    "ExecuteTime": {
     "end_time": "2023-04-15T14:45:06.226646Z",
     "start_time": "2023-04-15T14:45:06.087652Z"
    }
   },
   "outputs": [],
   "source": [
    "x = df_101['产品细类编码']\n",
    "y = df_101['订单需求量']\n",
    "plt.figure(figsize=(15,5))\n",
    "plt.title('订单需求量 by 产品细类编码')\n",
    "plt.xlabel('产品细类编码')\n",
    "plt.ylabel('订单需求量')\n",
    "plt.scatter(x,y)\n",
    "plt.show()"
   ]
  },
  {
   "cell_type": "code",
   "execution_count": null,
   "id": "e4c7eb95",
   "metadata": {
    "ExecuteTime": {
     "end_time": "2023-04-15T14:45:06.572650Z",
     "start_time": "2023-04-15T14:45:06.227647Z"
    }
   },
   "outputs": [],
   "source": [
    "plt.figure(figsize=(20,6))\n",
    "fig = sns.barplot(x='产品细类编码', y='订单需求量', data=df_101)"
   ]
  },
  {
   "cell_type": "code",
   "execution_count": null,
   "id": "4a320ab3",
   "metadata": {
    "ExecuteTime": {
     "end_time": "2023-04-15T14:45:06.588664Z",
     "start_time": "2023-04-15T14:45:06.573648Z"
    }
   },
   "outputs": [],
   "source": [
    "df_101.groupby('Month')['订单需求量'].mean() # to see the best months for sales"
   ]
  },
  {
   "cell_type": "code",
   "execution_count": null,
   "id": "ea327b74",
   "metadata": {
    "ExecuteTime": {
     "end_time": "2023-04-15T14:45:06.604650Z",
     "start_time": "2023-04-15T14:45:06.590647Z"
    }
   },
   "outputs": [],
   "source": [
    "df_101.groupby('Year')['订单需求量'].mean() # to see the best years for sales"
   ]
  },
  {
   "cell_type": "code",
   "execution_count": null,
   "id": "42b74901",
   "metadata": {
    "ExecuteTime": {
     "end_time": "2023-04-15T14:45:06.715647Z",
     "start_time": "2023-04-15T14:45:06.605647Z"
    }
   },
   "outputs": [],
   "source": [
    "monthly_sales = pd.pivot_table(df_101, values = \"订单需求量\", columns = \"Year\", index = \"Month\")\n",
    "monthly_sales.plot()"
   ]
  },
  {
   "cell_type": "code",
   "execution_count": null,
   "id": "162430ed",
   "metadata": {
    "ExecuteTime": {
     "end_time": "2023-04-15T14:45:07.241646Z",
     "start_time": "2023-04-15T14:45:06.716647Z"
    }
   },
   "outputs": [],
   "source": [
    "fig = sns.barplot(x='Month', y='订单需求量', data=df_101)"
   ]
  },
  {
   "cell_type": "code",
   "execution_count": null,
   "id": "018df731",
   "metadata": {
    "ExecuteTime": {
     "end_time": "2023-04-15T14:45:07.257648Z",
     "start_time": "2023-04-15T14:45:07.242647Z"
    }
   },
   "outputs": [],
   "source": [
    "df_101.groupby('week')['订单需求量'].mean().sort_values(ascending=False).head()"
   ]
  },
  {
   "cell_type": "code",
   "execution_count": null,
   "id": "ee4aaaef",
   "metadata": {
    "ExecuteTime": {
     "end_time": "2023-04-15T14:45:07.445700Z",
     "start_time": "2023-04-15T14:45:07.258648Z"
    }
   },
   "outputs": [],
   "source": [
    "weekly_sales = pd.pivot_table(df_101, values = \"订单需求量\", columns = \"Year\", index = \"week\")\n",
    "weekly_sales.plot()"
   ]
  },
  {
   "cell_type": "code",
   "execution_count": null,
   "id": "56eaa33e",
   "metadata": {
    "ExecuteTime": {
     "end_time": "2023-04-15T14:45:08.985647Z",
     "start_time": "2023-04-15T14:45:07.446675Z"
    }
   },
   "outputs": [],
   "source": [
    "plt.figure(figsize=(20,6))\n",
    "fig = sns.barplot(x='week', y='订单需求量', data=df_101)"
   ]
  },
  {
   "cell_type": "code",
   "execution_count": null,
   "id": "47739e5f",
   "metadata": {
    "ExecuteTime": {
     "end_time": "2023-04-15T14:45:09.192647Z",
     "start_time": "2023-04-15T14:45:08.987647Z"
    }
   },
   "outputs": [],
   "source": [
    "plt.figure(figsize = (12,10))\n",
    "sns.heatmap(df_101.corr().abs())    # To see the correlations\n",
    "plt.show()"
   ]
  },
  {
   "cell_type": "code",
   "execution_count": null,
   "id": "9ee826b6",
   "metadata": {
    "ExecuteTime": {
     "end_time": "2023-04-15T14:45:09.368648Z",
     "start_time": "2023-04-15T14:45:09.193647Z"
    }
   },
   "outputs": [],
   "source": [
    "drop_col = ['week','每月时间段','星期几','is_workday']\n",
    "df_101.drop(drop_col, axis=1, inplace=True) # dropping columns\n",
    "plt.figure(figsize = (12,10))\n",
    "sns.heatmap(df_101.corr().abs())    # To see the correlations without dropping columns\n",
    "plt.show()"
   ]
  },
  {
   "cell_type": "code",
   "execution_count": null,
   "id": "d7cbead9",
   "metadata": {
    "ExecuteTime": {
     "end_time": "2023-04-15T14:45:09.384648Z",
     "start_time": "2023-04-15T14:45:09.370649Z"
    }
   },
   "outputs": [],
   "source": [
    "df_new = df_101.sort_values(by='订单日期', ascending=True) # sorting according to date\n",
    "df_new"
   ]
  },
  {
   "cell_type": "code",
   "execution_count": null,
   "id": "00f04ede",
   "metadata": {
    "ExecuteTime": {
     "end_time": "2023-04-15T14:45:09.399648Z",
     "start_time": "2023-04-15T14:45:09.385678Z"
    }
   },
   "outputs": [],
   "source": [
    "train_data = df_new[:int(0.7*(len(df_new)))] # taking train part\n",
    "test_data = df_new[int(0.7*(len(df_new))):] # taking test part\n",
    "\n",
    "target = \"订单需求量\"\n",
    "used_cols = [c for c in df_new.columns.to_list() if c not in [target]] # all columns except weekly sales\n",
    "\n",
    "X_train = train_data[used_cols]\n",
    "X_test = test_data[used_cols]\n",
    "y_train = train_data[target]\n",
    "y_test = test_data[target]"
   ]
  },
  {
   "cell_type": "code",
   "execution_count": null,
   "id": "6abde4ca",
   "metadata": {
    "ExecuteTime": {
     "end_time": "2023-04-15T14:45:09.415653Z",
     "start_time": "2023-04-15T14:45:09.400649Z"
    }
   },
   "outputs": [],
   "source": [
    "X = df_new[used_cols] # to keep train and test X values together\n",
    "X_train = X_train.drop(['订单日期'], axis=1) # dropping date from train\n",
    "X_test = X_test.drop(['订单日期'], axis=1) # dropping date from test"
   ]
  },
  {
   "cell_type": "code",
   "execution_count": null,
   "id": "289d2df6",
   "metadata": {
    "ExecuteTime": {
     "end_time": "2023-04-15T14:45:09.430655Z",
     "start_time": "2023-04-15T14:45:09.416648Z"
    }
   },
   "outputs": [],
   "source": [
    "def wmae_test(test, pred): # WMAE for test \n",
    "    weights = X_test['是否节假日'].apply(lambda is_holiday:5 if is_holiday else 1)\n",
    "    error = np.sum(weights * np.abs(test - pred), axis=0) / np.sum(weights)\n",
    "    return error"
   ]
  },
  {
   "cell_type": "code",
   "execution_count": null,
   "id": "3e933f9b",
   "metadata": {
    "ExecuteTime": {
     "end_time": "2023-04-15T14:45:09.637653Z",
     "start_time": "2023-04-15T14:45:09.431647Z"
    }
   },
   "outputs": [],
   "source": [
    "from sklearn.ensemble import RandomForestRegressor\n",
    "rf = RandomForestRegressor(n_estimators=50, random_state=42, n_jobs=-1, max_depth=35,\n",
    "                           max_features = 'sqrt',min_samples_split = 10)\n",
    "\n",
    "from sklearn.preprocessing import RobustScaler\n",
    "scaler = RobustScaler()\n",
    "\n",
    "\n",
    "\n",
    "#making pipe tp use scaler and regressor together\n",
    "pipe = make_pipeline(scaler,rf)\n",
    "\n",
    "pipe.fit(X_train, y_train)\n",
    "\n",
    "# predictions on train set\n",
    "y_pred = pipe.predict(X_train)\n",
    "\n",
    "# predictions on test set\n",
    "y_pred_test = pipe.predict(X_test)"
   ]
  },
  {
   "cell_type": "code",
   "execution_count": null,
   "id": "91432b5e",
   "metadata": {
    "ExecuteTime": {
     "end_time": "2023-04-15T14:45:09.653656Z",
     "start_time": "2023-04-15T14:45:09.638646Z"
    }
   },
   "outputs": [],
   "source": [
    "wmae_test(y_test, y_pred_test)"
   ]
  },
  {
   "cell_type": "code",
   "execution_count": null,
   "id": "9dceb329",
   "metadata": {
    "ExecuteTime": {
     "end_time": "2023-04-15T14:45:09.669647Z",
     "start_time": "2023-04-15T14:45:09.654647Z"
    }
   },
   "outputs": [],
   "source": [
    "x_axis=np.linspace(1,len(y_pred_test),len(y_pred_test))"
   ]
  },
  {
   "cell_type": "code",
   "execution_count": null,
   "id": "eee4f7f0",
   "metadata": {
    "ExecuteTime": {
     "end_time": "2023-04-15T14:45:09.776647Z",
     "start_time": "2023-04-15T14:45:09.670650Z"
    }
   },
   "outputs": [],
   "source": [
    "plt.figure(figsize=(8,6))\n",
    "plt.plot(x_axis[0:200],y_test[0:200],marker='.')\n",
    "plt.plot(x_axis[0:200],y_pred_test[0:200],'r')\n",
    "plt.legend(['true','prediction'])\n",
    "plt.show()"
   ]
  },
  {
   "cell_type": "code",
   "execution_count": null,
   "id": "4d0a0066",
   "metadata": {
    "ExecuteTime": {
     "end_time": "2023-04-15T14:45:09.792653Z",
     "start_time": "2023-04-15T14:45:09.777648Z"
    }
   },
   "outputs": [],
   "source": [
    "bestP = {'colsample_bytree': 0.8, 'learning_rate': 0.4, 'max_depth': 5.0, 'min_child_weight': 400.0, 'n_estimators': 1000.0, 'num_leaves': 25.0, 'subsample': 0.6000000000000001}"
   ]
  },
  {
   "cell_type": "code",
   "execution_count": null,
   "id": "dd9baf29",
   "metadata": {
    "ExecuteTime": {
     "end_time": "2023-04-15T14:45:09.856646Z",
     "start_time": "2023-04-15T14:45:09.793648Z"
    }
   },
   "outputs": [],
   "source": [
    "import lightgbm\n",
    "\n",
    "model = lightgbm.LGBMRegressor(\n",
    "        n_estimators = int(bestP['n_estimators']),\n",
    "        learning_rate = bestP['learning_rate'],\n",
    "        subsample = bestP['subsample'],\n",
    "        colsample_bytree = bestP['colsample_bytree'],\n",
    "        max_depth = int(bestP['max_depth']),\n",
    "        num_leaves = int(bestP['num_leaves']),\n",
    "        min_child_weight = int(bestP['min_child_weight']))\n",
    "\n",
    "# print('Prediction for Store: {}**'.format(d_store_id[store]))\n",
    "model.fit(X_train, y_train, eval_set=[(X_train,y_train),(X_test,y_test)], eval_metric='rmse', verbose=1, early_stopping_rounds=20)\n",
    "# validation_prediction[X_valid.index] = model.predict(X_test)\n",
    "# eval_prediction[X_test.index] = model.predict(X_test)"
   ]
  },
  {
   "cell_type": "code",
   "execution_count": null,
   "id": "7ead6282",
   "metadata": {
    "ExecuteTime": {
     "end_time": "2023-04-15T14:45:09.872647Z",
     "start_time": "2023-04-15T14:45:09.858647Z"
    }
   },
   "outputs": [],
   "source": [
    "pre = model.predict(X_test)\n"
   ]
  },
  {
   "cell_type": "code",
   "execution_count": null,
   "id": "498dd638",
   "metadata": {
    "ExecuteTime": {
     "end_time": "2023-04-15T14:45:09.998647Z",
     "start_time": "2023-04-15T14:45:09.874647Z"
    }
   },
   "outputs": [],
   "source": [
    "x_axis=np.linspace(1,len(pre),len(pre))\n",
    "plt.plot(x_axis[:100],y_test[:100])\n",
    "plt.plot(x_axis[:100],pre[:100])\n",
    "plt.legend(['true','prediction'])\n",
    "plt.show()"
   ]
  },
  {
   "cell_type": "code",
   "execution_count": null,
   "id": "5e94455c",
   "metadata": {
    "ExecuteTime": {
     "end_time": "2023-04-15T14:45:10.014648Z",
     "start_time": "2023-04-15T14:45:09.999649Z"
    }
   },
   "outputs": [],
   "source": [
    "wmae_test(y_test, pre)"
   ]
  },
  {
   "cell_type": "markdown",
   "id": "dd5f5e0b",
   "metadata": {},
   "source": [
    "调参优化"
   ]
  },
  {
   "cell_type": "code",
   "execution_count": null,
   "id": "847ac7c7",
   "metadata": {
    "ExecuteTime": {
     "end_time": "2023-04-15T14:46:14.558818Z",
     "start_time": "2023-04-15T14:45:10.015649Z"
    }
   },
   "outputs": [],
   "source": [
    "\n",
    "import numpy as np\n",
    "import pandas as pd\n",
    "from sklearn.model_selection import train_test_split\n",
    "from sklearn.metrics import mean_squared_error\n",
    "import lightgbm as lgb\n",
    "\n",
    "params = {\n",
    "    'boosting_type': 'gbdt',\n",
    "    'objective': 'regression',\n",
    "    'metric': 'mse',\n",
    "    'learning_rate': .1,\n",
    "    'num_leaves': 31,\n",
    "    'max_depth': -1,\n",
    "    'min_child_samples': 20,\n",
    "    'subsample': .8,\n",
    "    'subsample_freq': 1,\n",
    "    'colsample_bytree': .8,\n",
    "    'reg_alpha':0.2 ,\n",
    "    'reg_lambda':0.2 ,\n",
    "    'n_estimators': 200\n",
    "}\n",
    "# ```\n",
    "\n",
    "# 在调参过程中，一般是先固定一些参数，然后逐一调试某一个参数的取值，记录下模型的拟合效果，以找到最优的参数组合。通常调参的参数主要包括：\n",
    "\n",
    "# - `learning_rate`：学习率，用于减小每次迭代的步长，缓解过拟合，建议取值在.05~.1之间\n",
    "# - `num_leaves`：决策树的叶子节点数，过大容易过拟合，过小可能造成欠拟合，建议取值在20~50之间\n",
    "# - `max_depth`：决策树的深度，可以控制一棵树的复杂度，过深容易过拟合，建议取值不超过10\n",
    "# - `min_child_samples`：叶子节点最少包含几个样本，容易过拟合，建议取值在20~100之间\n",
    "# - `subsample`：随机抽取部分数据样本进行决策树的训练，取值过大会导致过拟合，建议取值在.5~.8之间\n",
    "# - `colsample_bytree`：随机抽取部分特征进行决策树的训练，与subsample的作用类似，可以防止过拟合，建议取值在.5~.8之间\n",
    "# - `reg_alpha`：L1正则化，用于防止过拟合，建议取值在~1之间\n",
    "# - `reg_lambda`：L2正则化，用于防止过拟合，建议取值在~1之间\n",
    "# - `n_estimators`：迭代次数，建议取值不低于100\n",
    "\n",
    "# 下面是一个简单的参数调优示例：\n",
    "\n",
    "# ```python\n",
    "from sklearn.model_selection import GridSearchCV\n",
    "\n",
    "\n",
    "# params = {\n",
    "#     'boosting_type': 'gbdt',\n",
    "#     'objective': 'regression',\n",
    "#     'metric': 'mse',\n",
    "#     'subsample': 1,\n",
    "#     'n_estimators': 200\n",
    "# }\n",
    "\n",
    "param_grid = {\n",
    "    'learning_rate': [.01, .1, .25, 1],\n",
    "    'num_leaves': [10, 20, 30, 50, 100],\n",
    "    'max_depth': [3, 5, 7, 9],\n",
    "    'min_child_samples': [20, 50, 100]\n",
    "}\n",
    "\n",
    "# 使用网格搜索寻找最佳参数\n",
    "grid_search = GridSearchCV(estimator=lgb.LGBMRegressor(**params),\n",
    "                           param_grid=param_grid,\n",
    "                           scoring='neg_mean_squared_error',\n",
    "                           cv=5,\n",
    "                           n_jobs=-1)\n",
    "\n",
    "grid_search.fit(X_train, y_train)\n",
    "\n",
    "# 输出最佳参数组合和最小的平均方差\n",
    "print(\"Best parameters: \", grid_search.best_params_)\n",
    "print(\"Best score: \", np.sqrt(np.abs(grid_search.best_score_)))\n",
    "# ```\n",
    "\n",
    "# 最后，用得到的最优参数来训练LGBMRegressor模型并进行预测：\n",
    "\n",
    "# ```python\n",
    "# 使用最优参数组合训练模型\n"
   ]
  },
  {
   "cell_type": "code",
   "execution_count": null,
   "id": "7b2c78cd",
   "metadata": {
    "ExecuteTime": {
     "end_time": "2023-04-15T14:46:14.838815Z",
     "start_time": "2023-04-15T14:46:14.560817Z"
    }
   },
   "outputs": [],
   "source": [
    "params = {\n",
    "    'boosting_type': 'gbdt',\n",
    "    'objective': 'regression',\n",
    "    'metric': 'mse',\n",
    "    'learning_rate': 0.01,\n",
    "    'num_leaves': 50,\n",
    "    'max_depth': 7,\n",
    "    'min_child_samples': 100,\n",
    "    'subsample': .8,\n",
    "    'colsample_bytree': .8,\n",
    "    'reg_alpha':0.2 ,\n",
    "    'reg_lambda': 0.2,\n",
    "    'n_estimators': 200\n",
    "}\n",
    "\n",
    "# 训练模型\n",
    "lgb_model = lgb.LGBMRegressor(**params)\n",
    "lgb_model.fit(X_train, y_train)\n",
    "\n",
    "# 预测测试集\n",
    "y_pred = lgb_model.predict(X_test)\n",
    "\n",
    "# 计算均方根误差（RMSE）\n",
    "rmse = np.sqrt(mean_squared_error(y_test, y_pred))\n",
    "print(\"Root Mean Squared Error: \", rmse)\n"
   ]
  },
  {
   "cell_type": "code",
   "execution_count": null,
   "id": "79ac8ec0",
   "metadata": {
    "ExecuteTime": {
     "end_time": "2023-04-15T14:46:14.966817Z",
     "start_time": "2023-04-15T14:46:14.840817Z"
    }
   },
   "outputs": [],
   "source": [
    "x_axis=np.linspace(1,len(y_pred),len(y_pred))\n",
    "plt.plot(x_axis[:100],y_test[:100])\n",
    "plt.plot(x_axis[:100],y_pred[:100])\n",
    "plt.legend(['true','prediction'])\n",
    "plt.show()"
   ]
  },
  {
   "cell_type": "code",
   "execution_count": null,
   "id": "b7b0b10c",
   "metadata": {
    "ExecuteTime": {
     "end_time": "2023-04-15T14:46:14.982817Z",
     "start_time": "2023-04-15T14:46:14.968820Z"
    }
   },
   "outputs": [],
   "source": [
    "wmae_test(y_test, y_pred)"
   ]
  },
  {
   "cell_type": "markdown",
   "id": "e922b3a3",
   "metadata": {},
   "source": [
    "上诉经过了随机森林、LGBM模型发现效果不是很好，总结有可能是因为，产品编码、大类编码、细类编码为数值形式，导致影响模型"
   ]
  },
  {
   "cell_type": "markdown",
   "id": "24b32e0d",
   "metadata": {},
   "source": [
    "## 重新对数据进行编码矩阵处理"
   ]
  },
  {
   "cell_type": "code",
   "execution_count": null,
   "id": "771645e6",
   "metadata": {
    "ExecuteTime": {
     "end_time": "2023-04-15T14:46:15.014817Z",
     "start_time": "2023-04-15T14:46:14.983819Z"
    }
   },
   "outputs": [],
   "source": [
    "df_new = df_101.sort_values(by='订单日期', ascending=True) # sorting according to date\n",
    "df_new"
   ]
  },
  {
   "cell_type": "code",
   "execution_count": null,
   "id": "1f0d4cf8",
   "metadata": {
    "ExecuteTime": {
     "end_time": "2023-04-15T14:46:15.094845Z",
     "start_time": "2023-04-15T14:46:15.015819Z"
    }
   },
   "outputs": [],
   "source": [
    "temp = df_new[['产品编码','产品大类编码','产品细类编码']]\n",
    "\n",
    "\n",
    "\n",
    "temp[\"产品编码\"]=temp[\"产品编码\"].apply(str)\n",
    "temp[\"产品大类编码\"]=temp[\"产品大类编码\"].apply(str)\n",
    "temp[\"产品细类编码\"]=temp[\"产品细类编码\"].apply(str)\n",
    "\n",
    "temp.info()\n",
    "temp = pd.get_dummies(temp)"
   ]
  },
  {
   "cell_type": "code",
   "execution_count": null,
   "id": "1da4d7ca",
   "metadata": {
    "ExecuteTime": {
     "end_time": "2023-04-15T14:46:15.126817Z",
     "start_time": "2023-04-15T14:46:15.096817Z"
    }
   },
   "outputs": [],
   "source": [
    "# df_new =pd.merge(df_new,temp,on='订单日期')\n",
    "# df_new\n",
    "\n",
    "df1 = pd.concat([df_new,temp], axis=1)\n",
    "df1.drop(['产品编码','产品大类编码','产品细类编码'],axis=1,inplace=True)\n",
    "df1"
   ]
  },
  {
   "cell_type": "code",
   "execution_count": null,
   "id": "6d8ecbbe",
   "metadata": {
    "ExecuteTime": {
     "end_time": "2023-04-15T14:46:15.206817Z",
     "start_time": "2023-04-15T14:46:15.128819Z"
    }
   },
   "outputs": [],
   "source": [
    "train_data1 = df1[:int(0.7*(len(df_new)))] # taking train part\n",
    "test_data1 = df1[int(0.7*(len(df_new))):] # taking test part\n",
    "\n",
    "target = \"订单需求量\"\n",
    "used_cols = [c for c in df1.columns.to_list() if c not in [target]] # all columns except weekly sales\n",
    "\n",
    "X_train1 = train_data1[used_cols]\n",
    "X_test1 = test_data1[used_cols]\n",
    "y_train1 = train_data1[target]\n",
    "y_test1 = test_data1[target]\n",
    "\n",
    "X1 = df1[used_cols] # to keep train and test X values together\n",
    "X_train1 = X_train1.drop(['订单日期'], axis=1) # dropping date from train\n",
    "X_test1 = X_test1.drop(['订单日期'], axis=1) # dropping date from test"
   ]
  },
  {
   "cell_type": "code",
   "execution_count": null,
   "id": "a89eb966",
   "metadata": {
    "ExecuteTime": {
     "end_time": "2023-04-15T14:46:15.459817Z",
     "start_time": "2023-04-15T14:46:15.208820Z"
    }
   },
   "outputs": [],
   "source": [
    "params = {\n",
    "    'boosting_type': 'gbdt',\n",
    "    'objective': 'regression',\n",
    "    'metric': 'mse',\n",
    "    'learning_rate': 0.01,\n",
    "    'num_leaves': 50,\n",
    "    'max_depth': 7,\n",
    "    'min_child_samples': 100,\n",
    "    'subsample': .8,\n",
    "    'colsample_bytree': .8,\n",
    "    'reg_alpha':0.2 ,\n",
    "    'reg_lambda': 0.2,\n",
    "    'n_estimators': 200\n",
    "}\n",
    "\n",
    "# 训练模型\n",
    "lgb_model = lgb.LGBMRegressor(**params)\n",
    "lgb_model.fit(X_train1, y_train1)\n",
    "\n",
    "# 预测测试集\n",
    "y_pred1 = lgb_model.predict(X_test1)\n",
    "\n",
    "# 计算均方根误差（RMSE）\n",
    "rmse = np.sqrt(mean_squared_error(y_test1, y_pred1))\n",
    "print(\"Root Mean Squared Error: \", rmse)"
   ]
  },
  {
   "cell_type": "code",
   "execution_count": null,
   "id": "ee0703f6",
   "metadata": {
    "ExecuteTime": {
     "end_time": "2023-04-15T14:46:15.586815Z",
     "start_time": "2023-04-15T14:46:15.461818Z"
    }
   },
   "outputs": [],
   "source": [
    "x_axis=np.linspace(1,len(y_pred1),len(y_pred1))\n",
    "plt.plot(x_axis[:200],y_test1[:200],marker = '.')\n",
    "plt.plot(x_axis[:200],y_pred1[:200],'r')\n",
    "plt.legend(['true','prediction'])\n",
    "plt.show()"
   ]
  },
  {
   "cell_type": "code",
   "execution_count": null,
   "id": "c0bde387",
   "metadata": {},
   "outputs": [],
   "source": []
  }
 ],
 "metadata": {
  "kernelspec": {
   "display_name": "Python 3 (ipykernel)",
   "language": "python",
   "name": "python3"
  },
  "language_info": {
   "codemirror_mode": {
    "name": "ipython",
    "version": 3
   },
   "file_extension": ".py",
   "mimetype": "text/x-python",
   "name": "python",
   "nbconvert_exporter": "python",
   "pygments_lexer": "ipython3",
   "version": "3.9.12"
  },
  "toc": {
   "base_numbering": 1,
   "nav_menu": {},
   "number_sections": true,
   "sideBar": true,
   "skip_h1_title": false,
   "title_cell": "Table of Contents",
   "title_sidebar": "Contents",
   "toc_cell": false,
   "toc_position": {
    "height": "calc(100% - 180px)",
    "left": "10px",
    "top": "150px",
    "width": "261.664px"
   },
   "toc_section_display": true,
   "toc_window_display": false
  }
 },
 "nbformat": 4,
 "nbformat_minor": 5
}
